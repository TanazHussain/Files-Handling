{
 "cells": [
  {
   "cell_type": "markdown",
   "id": "f33cf188",
   "metadata": {},
   "source": [
    "# Files, Exception Handling, Logging, and Memory Management Questions"
   ]
  },
  {
   "cell_type": "markdown",
   "id": "93660824",
   "metadata": {},
   "source": [
    "### 1. What is the difference between interpreted and compiled languages?\n",
    "\n",
    "Interpreted languages execute code line by line using an interpreter, which translates the high-level code into machine-level instructions at runtime. This often leads to easier debugging and platform independence but slower execution. Compiled languages, on the other hand, require a compiler that translates the entire source code into machine code before execution. This results in faster performance but less flexibility and longer development cycles."
   ]
  },
  {
   "cell_type": "markdown",
   "id": "9b8fd6b6",
   "metadata": {},
   "source": [
    "### 2. What is exception handling in Python?\n",
    "\n",
    "Exception handling in Python is a method of responding to exceptional conditions—errors detected during execution—by transferring control to special error-handling code. It allows the programmer to anticipate potential errors and manage them gracefully, preventing the program from crashing."
   ]
  },
  {
   "cell_type": "markdown",
   "id": "cc6d11f9",
   "metadata": {},
   "source": [
    "### 3. What is the purpose of the finally block in exception handling?\n",
    "\n",
    "The finally block in exception handling is used to define clean-up actions that must be executed under all circumstances, whether an exception occurs or not. This is typically used to release external resources such as file handles, database connections, or network sockets."
   ]
  },
  {
   "cell_type": "markdown",
   "id": "2a9e8c09",
   "metadata": {},
   "source": [
    "### 4. What is logging in Python?\n",
    "\n",
    "Logging in Python is the process of recording events that happen during a program’s execution. It provides a way to track and understand program flow, debug issues, and monitor application behavior by generating logs at various severity levels such as debug, info, warning, error, and critical."
   ]
  },
  {
   "cell_type": "markdown",
   "id": "7425cc46",
   "metadata": {},
   "source": [
    "### 5. What is the significance of the __del__ method in Python?\n",
    "\n",
    "The __del__ method is a special method in Python that is called when an object is about to be destroyed. It is used to define clean-up behavior such as closing files or releasing resources. However, it should be used cautiously due to potential issues with object reference cycles."
   ]
  },
  {
   "cell_type": "markdown",
   "id": "cff2ec05",
   "metadata": {},
   "source": [
    "### 6. What is the difference between import and from ... import in Python?\n",
    "\n",
    "The import statement is used to bring an entire module into the current namespace, requiring the module name to access its components. The from ... import statement allows direct access to specific attributes or functions of a module without needing to qualify them with the module name."
   ]
  },
  {
   "cell_type": "markdown",
   "id": "abb895aa",
   "metadata": {},
   "source": [
    "### 7. How can you handle multiple exceptions in Python?\n",
    "\n",
    "Multiple exceptions in Python can be handled by using multiple except blocks for different exception types or a single block that handles a tuple of exceptions. This allows more granular control over how different error conditions are managed."
   ]
  },
  {
   "cell_type": "markdown",
   "id": "162deafb",
   "metadata": {},
   "source": [
    "### 8. What is the purpose of the with statement when handling files in Python?\n",
    "\n",
    "The with statement simplifies exception handling and ensures that resources are properly released. It automatically manages the opening and closing of files, making code more readable and less error-prone by ensuring that files are closed after their suite finishes."
   ]
  },
  {
   "cell_type": "markdown",
   "id": "89df43cd",
   "metadata": {},
   "source": [
    "### 9. What is the difference between multithreading and multiprocessing?\n",
    "\n",
    "Multithreading involves running multiple threads within a single process, sharing memory space, which is suitable for I/O-bound tasks. Multiprocessing uses separate memory spaces and independent processes, making it better suited for CPU-bound tasks and achieving true parallelism."
   ]
  },
  {
   "cell_type": "markdown",
   "id": "8c961c47",
   "metadata": {},
   "source": [
    "### 10. What are the advantages of using logging in a program?\n",
    "\n",
    "Logging provides insight into program execution, aids debugging, records events for audit trails, and supports adjustable severity levels. Unlike print statements, logs can be directed to various outputs such as files or servers and managed via configuration."
   ]
  },
  {
   "cell_type": "markdown",
   "id": "15eab552",
   "metadata": {},
   "source": [
    "### 11. What is memory management in Python?\n",
    "\n",
    "Memory management in Python involves allocating and releasing memory as needed by the program. Python uses automatic memory management, including reference counting and garbage collection, to handle memory allocation for objects dynamically."
   ]
  },
  {
   "cell_type": "markdown",
   "id": "73c646f0",
   "metadata": {},
   "source": [
    "### 12. What are the basic steps involved in exception handling in Python?\n",
    "\n",
    "Exception handling involves wrapping code that might raise an error in a try block, specifying how to handle errors using one or more except blocks, optionally including an else block for code that runs if no error occurs, and a finally block for cleanup actions."
   ]
  },
  {
   "cell_type": "markdown",
   "id": "225fc592",
   "metadata": {},
   "source": [
    "### 13. Why is memory management important in Python?\n",
    "\n",
    "Efficient memory management is crucial to ensure that programs run optimally without memory leaks or crashes. It allows Python to reclaim memory that is no longer in use and manage limited system resources effectively."
   ]
  },
  {
   "cell_type": "markdown",
   "id": "09f78fa7",
   "metadata": {},
   "source": [
    "### 14. What is the role of try and except in exception handling?\n",
    "\n",
    "The try block contains code that might throw an exception, while the except block defines how to respond if an exception does occur. This mechanism enables graceful handling of errors without terminating the program unexpectedly."
   ]
  },
  {
   "cell_type": "markdown",
   "id": "e7c1c60f",
   "metadata": {},
   "source": [
    "### 15. How does Python's garbage collection system work?\n",
    "\n",
    "Python's garbage collection system manages memory by tracking objects and their references. When an object’s reference count drops to zero, it becomes eligible for garbage collection. Python also has a cyclic garbage collector that detects and collects groups of objects with circular references."
   ]
  },
  {
   "cell_type": "markdown",
   "id": "e5e83c64",
   "metadata": {},
   "source": [
    "### 16. What is the purpose of the else block in exception handling?\n",
    "\n",
    "The else block is executed after the try block if no exceptions are raised. It is useful for code that should run only when the try block is successful and no exceptions occur."
   ]
  },
  {
   "cell_type": "markdown",
   "id": "d9752860",
   "metadata": {},
   "source": [
    "### 17. What are the common logging levels in Python?\n",
    "\n",
    "Python's logging module defines five standard logging levels: DEBUG (detailed information), INFO (confirmation that things are working), WARNING (indication of potential problems), ERROR (serious issues that have occurred), and CRITICAL (very serious errors)."
   ]
  },
  {
   "cell_type": "markdown",
   "id": "95fb779f",
   "metadata": {},
   "source": [
    "### 18. What is the difference between os.fork() and multiprocessing in Python?\n",
    "\n",
    "os.fork() is a low-level Unix-specific system call that creates a child process. Multiprocessing is a high-level, cross-platform module that simplifies process creation and management, providing a more portable and robust approach to parallel programming."
   ]
  },
  {
   "cell_type": "markdown",
   "id": "44fca596",
   "metadata": {},
   "source": [
    "### 19. What is the importance of closing a file in Python?\n",
    "\n",
    "Closing a file ensures that all data is flushed from buffers to disk, resources are released, and the file is no longer accessible. Failure to close files can lead to memory leaks and file corruption."
   ]
  },
  {
   "cell_type": "markdown",
   "id": "404a8b01",
   "metadata": {},
   "source": [
    "### 20. What is the difference between file.read() and file.readline() in Python?\n",
    "\n",
    "file.read() reads the entire content of a file into a single string, while file.readline() reads the next line from the file. readline() is more memory-efficient for reading large files line-by-line."
   ]
  },
  {
   "cell_type": "markdown",
   "id": "5cd644d4",
   "metadata": {},
   "source": [
    "### 21. What is the logging module in Python used for?\n",
    "\n",
    "The logging module is used to track events that happen during the execution of a program. It allows developers to write status messages to a log file or console with configurable severity levels, aiding in debugging and monitoring."
   ]
  },
  {
   "cell_type": "markdown",
   "id": "93f11e3c",
   "metadata": {},
   "source": [
    "### 22. What is the os module in Python used for in file handling?\n",
    "\n",
    "The os module provides a way to interact with the operating system, including functions for working with file and directory paths, environment variables, and process management, enhancing the capabilities of file handling in Python."
   ]
  },
  {
   "cell_type": "markdown",
   "id": "07785e0f",
   "metadata": {},
   "source": [
    "### 23. What are the challenges associated with memory management in Python?\n",
    "\n",
    "Challenges include managing reference cycles, avoiding memory leaks from lingering references, handling large objects efficiently, and balancing the performance overhead of garbage collection."
   ]
  },
  {
   "cell_type": "markdown",
   "id": "c1213fdb",
   "metadata": {},
   "source": [
    "### 24. How do you raise an exception manually in Python?\n",
    "\n",
    "An exception can be raised manually to signal that an error condition has occurred. This is typically done to enforce constraints, signal problems, or halt execution when a certain condition is not met."
   ]
  },
  {
   "cell_type": "markdown",
   "id": "bedc4860",
   "metadata": {},
   "source": [
    "### 25. Why is it important to use multithreading in certain applications?\n",
    "\n",
    "Multithreading is important for improving the responsiveness and performance of applications that involve waiting on I/O operations. It allows concurrent execution of tasks without requiring multiple processes, making it ideal for networked applications and real-time systems."
   ]
  },
  {
   "cell_type": "markdown",
   "id": "4e04c95e-6793-483e-bfd7-75e71aa68d26",
   "metadata": {},
   "source": [
    "### Practical Questions"
   ]
  },
  {
   "cell_type": "code",
   "execution_count": 5,
   "id": "ecdff553-a7b1-4657-8523-f81f59ccb3ec",
   "metadata": {},
   "outputs": [],
   "source": [
    "#1.How can you open a file for writing in Python and write a string to it?\n",
    "\n",
    "#we can use:\n",
    "file = open(\"file.txt\", \"w\")   #Open the file in write mode\n",
    "file.write(\"Hello, this is a string.\") #Write a string to the file\n",
    "file.close()   #Close the file"
   ]
  },
  {
   "cell_type": "code",
   "execution_count": 12,
   "id": "7067017a-726c-4e23-b723-a52e34e62d93",
   "metadata": {},
   "outputs": [
    {
     "name": "stdout",
     "output_type": "stream",
     "text": [
      "Hello, this is a string.\n"
     ]
    }
   ],
   "source": [
    "#2. Write a Python program to read the contents of a file and print each line\n",
    "\n",
    "with open(\"file.txt\", \"r\") as f:\n",
    "    content = f.read()\n",
    "    print(content)"
   ]
  },
  {
   "cell_type": "code",
   "execution_count": 14,
   "id": "12594394-9a63-418d-b4dd-ff03ade1ab83",
   "metadata": {},
   "outputs": [
    {
     "name": "stdout",
     "output_type": "stream",
     "text": [
      "The error is: [Errno 2] No such file or directory: 'math.txt'\n"
     ]
    }
   ],
   "source": [
    "#3. How would you handle a case where the file doesn't exist while trying to open it for reading?\n",
    "#We will use Exception handling in this case:\n",
    "\n",
    "try:\n",
    "    file = open(\"math.txt\" , \"r\")\n",
    "    file.read()\n",
    "except FileNotFoundError as e:\n",
    "    print(\"The error is:\", e)"
   ]
  },
  {
   "cell_type": "code",
   "execution_count": 6,
   "id": "9b82cf63-bd8a-4666-ab70-cb05094f142f",
   "metadata": {},
   "outputs": [
    {
     "name": "stdout",
     "output_type": "stream",
     "text": [
      "Content of source.txt: This is scripting text.\n",
      "File content copied successfully.\n"
     ]
    }
   ],
   "source": [
    "#4. Write a Python script that reads from one file and writes its content to another file\n",
    "\n",
    "# Write initial content to source.txt\n",
    "with open(\"source.txt\", \"w\") as f:\n",
    "    f.write(\"This is scripting text.\")\n",
    "\n",
    "# Read content from source.txt and print it\n",
    "with open(\"source.txt\", \"r\") as f:\n",
    "    content = f.read()\n",
    "print(\"Content of source.txt:\", content)\n",
    "\n",
    "# Write the content to destination.txt\n",
    "with open(\"destination.txt\", \"w\") as f:\n",
    "    f.write(content)\n",
    "\n",
    "print(\"File content copied successfully.\")"
   ]
  },
  {
   "cell_type": "code",
   "execution_count": 10,
   "id": "6deac133-38dc-4b88-9365-0d7acab0402f",
   "metadata": {},
   "outputs": [
    {
     "name": "stdout",
     "output_type": "stream",
     "text": [
      "The error is: division by zero\n"
     ]
    }
   ],
   "source": [
    "#5.How would you catch and handle division by zero error in Python?\n",
    "\n",
    "try:\n",
    "    5/0\n",
    "except ZeroDivisionError as e:\n",
    "    print(\"The error is:\", e)"
   ]
  },
  {
   "cell_type": "code",
   "execution_count": 1,
   "id": "8cba4001-6f81-4625-aa36-2e7b445cca75",
   "metadata": {},
   "outputs": [
    {
     "name": "stdout",
     "output_type": "stream",
     "text": [
      "Error caught: division by zero\n"
     ]
    }
   ],
   "source": [
    "#6. Write a Python program that logs an error message to a log file when a division by zero exception occurs.\n",
    "\n",
    "import logging\n",
    "logging.basicConfig(filename = \"program.log\", level = logging.ERROR)\n",
    "\n",
    "try:\n",
    "    5/0\n",
    "except ZeroDivisionError as e:\n",
    "    logging.error(f\"The error is:{e}\")\n",
    "    print(f\"Error caught: {e}\")"
   ]
  },
  {
   "cell_type": "code",
   "execution_count": 2,
   "id": "3a7f2d47-cf93-48c6-911a-b01dba044654",
   "metadata": {},
   "outputs": [],
   "source": [
    "#7. How do you log information at different levels (INFO, ERROR, WARNING) in Python using the logging module?\n",
    "\n",
    "import logging\n",
    "logging.basicConfig(filename = \"program1.log\", level = logging.INFO)\n",
    "\n",
    "logging.info(\"This is INFO error\")  #logging.info() — for informational messages\n",
    "logging.error(\"This is ERROR error\") #logging.error() — for error messages\n",
    "logging.warning(\"This is WARNING error\") #logging.warning() — for warnings"
   ]
  },
  {
   "cell_type": "code",
   "execution_count": 6,
   "id": "c635da28-6236-409a-a69e-c8ef51c3d63a",
   "metadata": {},
   "outputs": [
    {
     "name": "stdout",
     "output_type": "stream",
     "text": [
      "The error is: [Errno 2] No such file or directory: 'exam.txt'\n"
     ]
    }
   ],
   "source": [
    "#8. Write a program to handle a file opening error using exception handling.\n",
    "\n",
    "try:\n",
    "    with open(\"exam.txt\" ,\"r\") as f:\n",
    "        content = f.read()\n",
    "except FileNotFoundError as e:\n",
    "    print(\"The error is:\", e)"
   ]
  },
  {
   "cell_type": "code",
   "execution_count": 20,
   "id": "452ef128-a8cc-4553-9c71-3ed28d1e6ffe",
   "metadata": {},
   "outputs": [
    {
     "name": "stdout",
     "output_type": "stream",
     "text": [
      "['Hello, this is string 1.Hello, this is string 2.Hello, this is string 3.Hello, this is string 4.']\n"
     ]
    }
   ],
   "source": [
    "#9. How can you read a file line by line and store its content in a list in Python?\n",
    "\n",
    "file = open(\"file.txt1\", \"w\") \n",
    "file.write(\"Hello, this is string 1.\")\n",
    "file.write(\"Hello, this is string 2.\")\n",
    "file.write(\"Hello, this is string 3.\")\n",
    "file.write(\"Hello, this is string 4.\")\n",
    "file.close()   #Close the file\n",
    "\n",
    "with open(\"file.txt1\",\"r\") as f:\n",
    "    content = f.readlines()\n",
    "    print(content)"
   ]
  },
  {
   "cell_type": "code",
   "execution_count": 22,
   "id": "6ea0a969-038b-45f2-8555-7dd4f0dd8dbf",
   "metadata": {},
   "outputs": [],
   "source": [
    "#10. How can you append data to an existing file in Python?\n",
    "\n",
    "file = open(\"file.txt1\", \"a\")  # Open the file in append mode ('a')\n",
    "file.write(\"Hello, this is string 1.\")\n",
    "file.write(\"Hello, this is string 2.\")\n",
    "file.write(\"Hello, this is string 3.\")\n",
    "file.write(\"Hello, this is string 4.\")\n",
    "file.write(\"Appended line.\")\n",
    "file.close()  # Close the file\n"
   ]
  },
  {
   "cell_type": "code",
   "execution_count": 33,
   "id": "76ea2587-1389-463f-bfbd-08bf8ac01bf5",
   "metadata": {},
   "outputs": [
    {
     "name": "stdout",
     "output_type": "stream",
     "text": [
      "The error is: 'age'\n"
     ]
    }
   ],
   "source": [
    "#11. Write a Python program that uses a try-except block to handle an error when attempting to access a \n",
    "#dictionary key that doesn't exist\n",
    "\n",
    "D = {\"name\":\"Ajay\", \"place\":\"Delhi\"}\n",
    "try:\n",
    "    D[\"age\"]\n",
    "except KeyError as e:\n",
    "    print(\"The error is:\", e)"
   ]
  },
  {
   "cell_type": "code",
   "execution_count": 6,
   "id": "4f179b4e-40d8-4009-83b6-be79a67618a1",
   "metadata": {},
   "outputs": [
    {
     "name": "stdout",
     "output_type": "stream",
     "text": [
      "FileNotFoundError caught:\n",
      "The error is: [Errno 2] No such file or directory: 'exam.txt'\n"
     ]
    }
   ],
   "source": [
    "#12. Write a program that demonstrates using multiple except blocks to handle different types of exceptions.\n",
    "\n",
    "# Program to demonstrate multiple except blocks\n",
    "\n",
    "try:\n",
    "    # Try to open and read the file\n",
    "    with open(\"exam.txt\", \"r\") as f:\n",
    "        content = f.read()\n",
    "        \n",
    "# Handle specific exception: File not found\n",
    "except FileNotFoundError as e:\n",
    "    print(\"FileNotFoundError caught:\")\n",
    "    print(\"The error is:\", e)\n",
    "\n",
    "# Handle any other unexpected exception\n",
    "except Exception as e:\n",
    "    print(\"A general exception was caught:\")\n",
    "    print(\"The error can be:\", e)\n",
    "\n",
    "# This block runs only if no exceptions are raised\n",
    "else:\n",
    "    print(\"No error found.\")\n",
    "    print(\"File content:\")\n",
    "    print(content)\n"
   ]
  },
  {
   "cell_type": "code",
   "execution_count": 8,
   "id": "b744188a-f52b-489e-a570-bfa83f016e3f",
   "metadata": {},
   "outputs": [
    {
     "name": "stdout",
     "output_type": "stream",
     "text": [
      "Hello, this is a string.\n"
     ]
    }
   ],
   "source": [
    "#13.How would you check if a file exists before attempting to read it in Python?\n",
    "\n",
    "import os\n",
    "\n",
    "file_path = \"file.txt\"\n",
    "\n",
    "if os.path.exists(file_path):\n",
    "    with open(file_path, 'r') as file:\n",
    "        content = file.read()\n",
    "        print(content)\n",
    "else:\n",
    "    print(\"File does not exist.\")\n"
   ]
  },
  {
   "cell_type": "code",
   "execution_count": 3,
   "id": "041165fa-7727-4885-b67a-de850e3348cc",
   "metadata": {},
   "outputs": [],
   "source": [
    "#14. Write a program that uses the logging module to log both informational and error messages\n",
    "\n",
    "import logging\n",
    "\n",
    "# Configure the logging system\n",
    "logging.basicConfig(filename = \"program2.log\", level = logging.INFO,format = '%(asctime)s - %(levelname)s - %(message)s')\n",
    "\n",
    "# Log an informational message\n",
    "logging.info(\"This is an informational message.\")\n",
    "\n",
    "# Log an error message\n",
    "logging.error(\"This is an error message.\")"
   ]
  },
  {
   "cell_type": "code",
   "execution_count": 1,
   "id": "f6816cdc-f3cb-4cdf-9aca-9c15f60e0da8",
   "metadata": {},
   "outputs": [
    {
     "name": "stdout",
     "output_type": "stream",
     "text": [
      "The content is:\n",
      " Hello, this is a string.\n"
     ]
    }
   ],
   "source": [
    "#15. Write a Python program that prints the content of a file and handles the case when the file is empty.\n",
    "\n",
    "try:\n",
    "    with open(\"file.txt\",\"r\") as f:\n",
    "        content = f.read()\n",
    "        if content.strip() == \"\":\n",
    "            print(\"Content is empty\")\n",
    "        else:\n",
    "             print(\"The content is:\\n\",content)\n",
    "      \n",
    "except FileNotFoundError as e:\n",
    "    print(\"File doesn't exist\")"
   ]
  },
  {
   "cell_type": "code",
   "execution_count": 8,
   "id": "e09c3296-eb2d-4ce5-8ba2-d654b4d900eb",
   "metadata": {},
   "outputs": [
    {
     "name": "stdout",
     "output_type": "stream",
     "text": [
      "Memory usage (MiB): [159.19140625, 159.19140625, 173.375, 190.828125, 158.140625]\n",
      "The memory_profiler extension is already loaded. To reload it, use:\n",
      "  %reload_ext memory_profiler\n",
      "peak memory: 121.69 MiB, increment: 0.00 MiB\n"
     ]
    }
   ],
   "source": [
    "#16. Demonstrate how to use memory profiling to check the memory usage of a small program\n",
    "\n",
    "\n",
    "from memory_profiler import memory_usage\n",
    "\n",
    "def create_list(n):\n",
    "    return [i for i in range(n)]\n",
    "\n",
    "mem_usage = memory_usage((create_list, (10**6,)))\n",
    "print(f\"Memory usage (MiB): {mem_usage}\")\n",
    "\n",
    "# Optional: load IPython extension and run magic\n",
    "%load_ext memory_profiler\n",
    "%memit create_list(10**6)"
   ]
  },
  {
   "cell_type": "code",
   "execution_count": 21,
   "id": "bea0fc94-7eea-4384-88ec-7823ddf51df2",
   "metadata": {},
   "outputs": [
    {
     "name": "stdout",
     "output_type": "stream",
     "text": [
      "1\n",
      "2\n",
      "3\n",
      "4\n",
      "5\n",
      "6\n",
      "7\n",
      "8\n",
      "9\n"
     ]
    }
   ],
   "source": [
    "#17. Write a Python program to create and write a list of numbers to a file, one number per line.\n",
    "\n",
    "numbers = [1,2,3,4,5,6,7,8,9]\n",
    "\n",
    "with open(\"list.txt\",\"w\") as f:\n",
    "    for num in numbers:\n",
    "        f.write(f\"{num}\\n\")\n",
    "        print(f\"{num}\")"
   ]
  },
  {
   "cell_type": "code",
   "execution_count": 2,
   "id": "bfe10903-6f26-41b6-b737-d0c2290c5549",
   "metadata": {},
   "outputs": [],
   "source": [
    "#18.How would you implement a basic logging setup that logs to a file with rotation after 1MB?\n",
    "\n",
    "import logging\n",
    "from logging.handlers import RotatingFileHandler\n",
    "\n",
    "logger = logging.getLogger()\n",
    "logger.setLevel(logging.INFO)\n",
    "\n",
    "handler = RotatingFileHandler('mylog.log', maxBytes=1_000_000, backupCount=2)\n",
    "logger.addHandler(handler)\n",
    "\n",
    "logger.info(\"This is a test log message\")\n"
   ]
  },
  {
   "cell_type": "code",
   "execution_count": 17,
   "id": "70316d7d-2366-4f89-a3f5-bccc8ebe5e4b",
   "metadata": {},
   "outputs": [
    {
     "name": "stdout",
     "output_type": "stream",
     "text": [
      "The error is: list index out of range\n",
      "The error is: 'place'\n"
     ]
    }
   ],
   "source": [
    "#19. Write a program that handles both IndexError and KeyError using a try-except block.\n",
    "L = [\"Ajay\",\"Apple\",2,3,4]\n",
    "D = {\"name\":\"Ajay\",\"age\":23}\n",
    "\n",
    "try:\n",
    "    L[5] # This will raise an IndexError since index 5 doesn't exist\n",
    "except IndexError as e:\n",
    "    print(\"The error is:\",e)\n",
    "try:\n",
    "    D[\"place\"] # This will raise a KeyError since 'place' key doesn't exist\n",
    "except KeyError as e:\n",
    "    print(\"The error is:\",e)"
   ]
  },
  {
   "cell_type": "code",
   "execution_count": 19,
   "id": "f4527f4a-64c7-4a81-9fa4-28a881c1c85b",
   "metadata": {},
   "outputs": [
    {
     "name": "stdout",
     "output_type": "stream",
     "text": [
      "Hello, this is a string.\n"
     ]
    }
   ],
   "source": [
    "#20. How would you open a file and read its contents using a context manager in Python?\n",
    "\n",
    "with open('file.txt', 'r') as file:\n",
    "    contents = file.read()\n",
    "    print(contents)"
   ]
  },
  {
   "cell_type": "code",
   "execution_count": 21,
   "id": "8ecfa535-f915-46c3-a0e4-867f56aecc9e",
   "metadata": {},
   "outputs": [
    {
     "name": "stdin",
     "output_type": "stream",
     "text": [
      "Enter the filename:  file.txt\n",
      "Enter the word to count:  Hello\n"
     ]
    },
    {
     "name": "stdout",
     "output_type": "stream",
     "text": [
      "The word 'Hello' occurs 1 time(s).\n"
     ]
    }
   ],
   "source": [
    "#21. Write a Python program that reads a file and prints the number of occurrences of a specific word.\n",
    "\n",
    "# Simple program to count word occurrences in a file\n",
    "\n",
    "filename = input(\"Enter the filename: \")\n",
    "word = input(\"Enter the word to count: \")\n",
    "\n",
    "try:\n",
    "    with open(filename, 'r') as f:\n",
    "        text = f.read()\n",
    "        count = text.count(word)\n",
    "        print(f\"The word '{word}' occurs {count} time(s).\")\n",
    "except FileNotFoundError:\n",
    "    print(\"File not found.\")"
   ]
  },
  {
   "cell_type": "code",
   "execution_count": 36,
   "id": "491ca5fd-08bd-4cf0-a30d-28bd735d76d4",
   "metadata": {},
   "outputs": [
    {
     "name": "stdout",
     "output_type": "stream",
     "text": [
      "The file is not empty.\n",
      "Hello, this is a string.\n"
     ]
    }
   ],
   "source": [
    "#22. How can you check if a file is empty before attempting to read its contents?\n",
    "\n",
    "with open('file.txt', 'r') as file:\n",
    "    if file.read(1):\n",
    "        print(\"The file is not empty.\")\n",
    "        file.seek(0)  # Go back to the beginning\n",
    "    else:\n",
    "        print(\"The file is empty.\")\n",
    "        file.seek(0)  # Optional if you want to read (will read nothing)\n",
    "    \n",
    "    print(file.read())  # Now reads the full content\n"
   ]
  },
  {
   "cell_type": "code",
   "execution_count": 1,
   "id": "09ea286e-0656-47fb-b138-bf3eb8926c96",
   "metadata": {},
   "outputs": [],
   "source": [
    "#23. Write a Python program that writes to a log file when an error occurs during file handling.\n",
    "\n",
    "import logging\n",
    "\n",
    "# Configure the logging system\n",
    "logging.basicConfig(filename = \"error.log\", level = logging.DEBUG, format = '%(asctime)s - %(levelname)s - %(message)s')\n",
    "\n",
    "try:\n",
    "    5/0\n",
    "except ZeroDivisionError as e:\n",
    "    logging.error(f\"The error is:{e}\")\n",
    "    logging.shutdown()"
   ]
  }
 ],
 "metadata": {
  "kernelspec": {
   "display_name": "Python 3 (ipykernel)",
   "language": "python",
   "name": "python3"
  },
  "language_info": {
   "codemirror_mode": {
    "name": "ipython",
    "version": 3
   },
   "file_extension": ".py",
   "mimetype": "text/x-python",
   "name": "python",
   "nbconvert_exporter": "python",
   "pygments_lexer": "ipython3",
   "version": "3.13.5"
  }
 },
 "nbformat": 4,
 "nbformat_minor": 5
}
